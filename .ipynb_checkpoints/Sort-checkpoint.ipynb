{
 "cells": [
  {
   "cell_type": "code",
   "execution_count": 10,
   "id": "ca546ca3",
   "metadata": {},
   "outputs": [],
   "source": [
    "# Insertion Sort (Stable)\n",
    "# 從index 1開始當作key 每一輪往前比 若比該index小 則該index值上升一格\n",
    "def insertion_sort(mylist):\n",
    "    # from index 1 to last index\n",
    "    for i in range(1,len(mylist)):\n",
    "        # key = index value\n",
    "        key = mylist[i]\n",
    "        # compare with value before\n",
    "        j = i-1\n",
    "        while j >= 0 and key < mylist[j]:\n",
    "            # if index before greater than key, then swap\n",
    "            mylist[j + 1] = mylist[j]\n",
    "            j -= 1\n",
    "        # insert into right position\n",
    "        mylist[j + 1] = key\n",
    "    return mylist\n",
    "# Time Complexity: O(n), O(n**2), O(n**2)\n",
    "# Space Complexity: O(1)"
   ]
  },
  {
   "cell_type": "code",
   "execution_count": 9,
   "id": "3268a3cb",
   "metadata": {},
   "outputs": [],
   "source": [
    "# Selection Sort (Unstable)\n",
    "# 從index 0開始 找後面最小的進行比較 若比後面最小的小 則swap\n",
    "def selection_sort(mylist):\n",
    "    for i in range(len(mylist)-1):\n",
    "        key = i\n",
    "        # find min\n",
    "        for j in range(i+1, len(mylist)):\n",
    "            if mylist[j] < mylist[key]:\n",
    "                key = j\n",
    "        # swap\n",
    "        (mylist[i], mylist[key]) = (mylist[key], mylist[i])\n",
    "    return mylist\n",
    "# Time Complexity: O(n**2), O(n**2), O(n**2)\n",
    "# Space Complexity: O(1)"
   ]
  },
  {
   "cell_type": "code",
   "execution_count": null,
   "id": "f33f6a18",
   "metadata": {},
   "outputs": [],
   "source": []
  }
 ],
 "metadata": {
  "kernelspec": {
   "display_name": "Python 3 (ipykernel)",
   "language": "python",
   "name": "python3"
  },
  "language_info": {
   "codemirror_mode": {
    "name": "ipython",
    "version": 3
   },
   "file_extension": ".py",
   "mimetype": "text/x-python",
   "name": "python",
   "nbconvert_exporter": "python",
   "pygments_lexer": "ipython3",
   "version": "3.9.7"
  }
 },
 "nbformat": 4,
 "nbformat_minor": 5
}
